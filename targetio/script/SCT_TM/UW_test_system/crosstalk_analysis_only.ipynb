{
 "cells": [
  {
   "cell_type": "code",
   "execution_count": null,
   "metadata": {},
   "outputs": [],
   "source": [
    "#Crosstalk check\n",
    "%pylab inline\n",
    "import numpy as np\n",
    "import matplotlib.pyplot as plt\n",
    "import os, sys\n",
    "import csv"
   ]
  },
  {
   "cell_type": "code",
   "execution_count": null,
   "metadata": {},
   "outputs": [],
   "source": [
    "\n",
    "noiseDataA2 = np.zeros((16,3))\n",
    "calibData = np.zeros((16,3))\n",
    "waveNoiseA2 = np.zeros((16,3))\n",
    "\n",
    "crosstalkMatrix = np.zeros((16,16))\n",
    "\n",
    "for cc in range(16):\n",
    "    for a in range(16):\n",
    "        ampl=440\n",
    "        asic=2\n",
    "        channel=a\n",
    "        inCh = cc\n",
    "        directory = \"results/TARGETc/ASIC2/\"\n",
    "        inFile = directory + \"calData_amp\"+str(ampl)+\"_ASIC\"+str(asic)+\"_Crosstalk_inCh_\"+str(inCh)+\"_CH\"+str(channel)+\".txt\"\n",
    "        \n",
    "        data = np.loadtxt(inFile)\n",
    "        \n",
    "        \n",
    "        meanData = np.zeros(data.shape[1])\n",
    "        meanDataCount = 0\n",
    "        print \"Input channel:\", inCh, \"Check channel:\", channel\n",
    "        allNoise=[]     \n",
    "        for i in range(data.shape[0]):\n",
    "      #      if(data[i,150:220].max()>0):\n",
    "                meanData+=data[i]\n",
    "                meanDataCount+=1\n",
    "                plot(data[i])\n",
    "                \n",
    "        if(meanDataCount>0):\n",
    "            meanData = meanData*1.0/meanDataCount\n",
    "            plot(meanData, linewidth=3, color='black')\n",
    "            print \"received peak amp:\", meanData.max() - meanData[150], \"Crosstalk:\", (meanData.max() - meanData[150])/ampl*2.0*100.0, \"%\"\n",
    "            crosstalkMatrix[cc,a] = (meanData.max() - meanData[150])/ampl*2.0*100.0\n",
    "            plt.show()\n",
    "            \n",
    "            \n",
    "            \n",
    "for i in range(16):\n",
    "    print crosstalkMatrix[i,i]\n",
    "    for k in range(16):\n",
    "        if(crosstalkMatrix[i,i]>20.0):\n",
    "            crosstalkMatrix[i,k] = crosstalkMatrix[i,k]/crosstalkMatrix[i,i]*100.0\n",
    "        else:\n",
    "            crosstalkMatrix[i,k] = 0.0\n",
    "            \n",
    "            \n",
    "xdata=np.arange(0,17,1)\n",
    "ydata=np.arange(0,17,1)\n",
    "\n",
    "plt.pcolor(xdata, ydata, crosstalkMatrix, vmax=4.0, cmap='RdBu')\n",
    "plt.colorbar(label='crosstalk in %')\n",
    "xlabel('Crosstalk Channel')\n",
    "ylabel('Input Channel')\n",
    "plt.show()\n",
    "            "
   ]
  },
  {
   "cell_type": "code",
   "execution_count": null,
   "metadata": {},
   "outputs": [],
   "source": []
  }
 ],
 "metadata": {
  "kernelspec": {
   "display_name": "Python 2",
   "language": "python",
   "name": "python2"
  },
  "language_info": {
   "codemirror_mode": {
    "name": "ipython",
    "version": 2
   },
   "file_extension": ".py",
   "mimetype": "text/x-python",
   "name": "python",
   "nbconvert_exporter": "python",
   "pygments_lexer": "ipython2",
   "version": "2.7.14"
  }
 },
 "nbformat": 4,
 "nbformat_minor": 2
}
